{
 "cells": [
  {
   "cell_type": "code",
   "execution_count": 1,
   "outputs": [],
   "source": [
    "from tqdm.notebook import tqdm\n",
    "import torch\n",
    "device = 'cuda:0' if torch.cuda.is_available() else 'cpu'"
   ],
   "metadata": {
    "collapsed": false,
    "pycharm": {
     "name": "#%% device selection\n"
    }
   }
  },
  {
   "cell_type": "code",
   "execution_count": 2,
   "outputs": [
    {
     "name": "stdout",
     "output_type": "stream",
     "text": [
      "Files already downloaded and verified\n"
     ]
    }
   ],
   "source": [
    "from torchvision.datasets import CIFAR10\n",
    "import torchvision.transforms as T\n",
    "\n",
    "preprocess = T.Compose([\n",
    "    T.Resize(256),\n",
    "    T.CenterCrop(224),\n",
    "    T.ToTensor(),\n",
    "    #T.Lambda(lambda x: x.to(device)),\n",
    "])\n",
    "\n",
    "DATASET_ROOT = 'data/'\n",
    "data_train = CIFAR10(\n",
    "    root = DATASET_ROOT,\n",
    "    train=True,\n",
    "    download=True,\n",
    "    transform=preprocess,\n",
    "    #target_transform=T.Lambda(lambda x: x.to(device)),\n",
    ")\n",
    "\n",
    "data_test = CIFAR10(\n",
    "    root = DATASET_ROOT,\n",
    "    train=False,\n",
    "    download=False,\n",
    "    transform=preprocess,\n",
    "    #target_transform=T.Lambda(lambda x: x.to(device)),\n",
    ")"
   ],
   "metadata": {
    "collapsed": false,
    "pycharm": {
     "name": "#%% download and import celeba dataset\n"
    }
   }
  },
  {
   "cell_type": "code",
   "execution_count": 3,
   "outputs": [],
   "source": [
    "from torch.utils.data import DataLoader, Subset\n",
    "BATCH_SIZE = 32\n",
    "train_dl = DataLoader(\n",
    "    data_train,\n",
    "    batch_size=BATCH_SIZE,\n",
    ")\n",
    "\n",
    "test_dl = DataLoader(\n",
    "    data_test,\n",
    "    batch_size=BATCH_SIZE\n",
    ")"
   ],
   "metadata": {
    "collapsed": false,
    "pycharm": {
     "name": "#%% create data loaders\n"
    }
   }
  },
  {
   "cell_type": "code",
   "execution_count": 4,
   "outputs": [
    {
     "name": "stderr",
     "output_type": "stream",
     "text": [
      "Using cache found in C:\\Users\\ensmi/.cache\\torch\\hub\\pytorch_vision_master\n"
     ]
    }
   ],
   "source": [
    "import os\n",
    "NET_DIR = 'vgg16'\n",
    "os.makedirs(NET_DIR, exist_ok=True)\n",
    "\n",
    "from torch.hub import load\n",
    "from torch import nn\n",
    "VISION_REPO = 'pytorch/vision'\n",
    "model = load(VISION_REPO, NET_DIR, pretrained=False)"
   ],
   "metadata": {
    "collapsed": false,
    "pycharm": {
     "name": "#%% load net from torch hub\n"
    }
   }
  },
  {
   "cell_type": "code",
   "execution_count": 5,
   "outputs": [
    {
     "data": {
      "text/plain": "VGG(\n  (features): Sequential(\n    (0): Conv2d(3, 64, kernel_size=(3, 3), stride=(1, 1), padding=(1, 1))\n    (1): ReLU(inplace=True)\n    (2): Conv2d(64, 64, kernel_size=(3, 3), stride=(1, 1), padding=(1, 1))\n    (3): ReLU(inplace=True)\n    (4): MaxPool2d(kernel_size=2, stride=2, padding=0, dilation=1, ceil_mode=False)\n    (5): Conv2d(64, 128, kernel_size=(3, 3), stride=(1, 1), padding=(1, 1))\n    (6): ReLU(inplace=True)\n    (7): Conv2d(128, 128, kernel_size=(3, 3), stride=(1, 1), padding=(1, 1))\n    (8): ReLU(inplace=True)\n    (9): MaxPool2d(kernel_size=2, stride=2, padding=0, dilation=1, ceil_mode=False)\n    (10): Conv2d(128, 256, kernel_size=(3, 3), stride=(1, 1), padding=(1, 1))\n    (11): ReLU(inplace=True)\n    (12): Conv2d(256, 256, kernel_size=(3, 3), stride=(1, 1), padding=(1, 1))\n    (13): ReLU(inplace=True)\n    (14): Conv2d(256, 256, kernel_size=(3, 3), stride=(1, 1), padding=(1, 1))\n    (15): ReLU(inplace=True)\n    (16): MaxPool2d(kernel_size=2, stride=2, padding=0, dilation=1, ceil_mode=False)\n    (17): Conv2d(256, 512, kernel_size=(3, 3), stride=(1, 1), padding=(1, 1))\n    (18): ReLU(inplace=True)\n    (19): Conv2d(512, 512, kernel_size=(3, 3), stride=(1, 1), padding=(1, 1))\n    (20): ReLU(inplace=True)\n    (21): Conv2d(512, 512, kernel_size=(3, 3), stride=(1, 1), padding=(1, 1))\n    (22): ReLU(inplace=True)\n    (23): MaxPool2d(kernel_size=2, stride=2, padding=0, dilation=1, ceil_mode=False)\n    (24): Conv2d(512, 512, kernel_size=(3, 3), stride=(1, 1), padding=(1, 1))\n    (25): ReLU(inplace=True)\n    (26): Conv2d(512, 512, kernel_size=(3, 3), stride=(1, 1), padding=(1, 1))\n    (27): ReLU(inplace=True)\n    (28): Conv2d(512, 512, kernel_size=(3, 3), stride=(1, 1), padding=(1, 1))\n    (29): ReLU(inplace=True)\n    (30): MaxPool2d(kernel_size=2, stride=2, padding=0, dilation=1, ceil_mode=False)\n  )\n  (avgpool): AdaptiveAvgPool2d(output_size=(7, 7))\n  (classifier): Sequential(\n    (0): Linear(in_features=25088, out_features=4096, bias=True)\n    (1): ReLU(inplace=True)\n    (2): Dropout(p=0.5, inplace=False)\n    (3): Linear(in_features=4096, out_features=4096, bias=True)\n    (4): ReLU(inplace=True)\n    (5): Dropout(p=0.5, inplace=False)\n    (6): Linear(in_features=4096, out_features=10, bias=True)\n  )\n)"
     },
     "execution_count": 5,
     "metadata": {},
     "output_type": "execute_result"
    }
   ],
   "source": [
    "classifiers = list(model.classifier)\n",
    "classifiers[-1] = nn.Linear(in_features=4096, out_features=10)\n",
    "model.classifier = nn.Sequential(*classifiers)\n",
    "model.to(device)"
   ],
   "metadata": {
    "collapsed": false,
    "pycharm": {
     "name": "#%% modify net output to fit data format\n"
    }
   }
  },
  {
   "cell_type": "code",
   "execution_count": 6,
   "outputs": [],
   "source": [
    "def trainModel():\n",
    "\n",
    "    EPOCHS = 90\n",
    "    MOMENTUM = 0.9\n",
    "    LR_INIT = 0.001\n",
    "    LR_DECAY = 0.0005\n",
    "\n",
    "    # training init\n",
    "    model.train()\n",
    "    seed = torch.initial_seed()\n",
    "    criterion = nn.CrossEntropyLoss().to(device)\n",
    "    optimizer = torch.optim.SGD(\n",
    "        params=model.parameters(),\n",
    "        lr=LR_INIT,\n",
    "        momentum=MOMENTUM,\n",
    "        weight_decay=LR_DECAY\n",
    "    )\n",
    "\n",
    "    # progress bars nest\n",
    "    for epoch in tqdm(range(EPOCHS), unit='epoch'):\n",
    "\n",
    "        # load from file if exists, skip computing if already done\n",
    "        cur_epoch_file = f'{NET_DIR}/e{epoch}.pkl'\n",
    "        if os.path.exists(cur_epoch_file):\n",
    "            pickle_dict = torch.load(cur_epoch_file)\n",
    "            seed = pickle_dict['seed']\n",
    "            torch.manual_seed(seed)\n",
    "            model.load_state_dict(pickle_dict['model'])\n",
    "            optimizer.load_state_dict(pickle_dict['optim'])\n",
    "            continue\n",
    "\n",
    "        # perform epoch\n",
    "        loss = 0.0\n",
    "        for img, label in tqdm(train_dl, unit='batch', leave=False):\n",
    "            optimizer.zero_grad()\n",
    "\n",
    "            output = model(img.to(device))\n",
    "            loss = criterion(output, label.to(device))\n",
    "            loss.backward()\n",
    "            optimizer.step()\n",
    "\n",
    "        # save state in case we're interrupted\n",
    "        if epoch % 15 == 0:\n",
    "            print(f'Epoch {epoch}/{EPOCHS}, loss = {loss.item():.3f}')\n",
    "            state = {\n",
    "                'optim': optimizer.state_dict(),\n",
    "                'model': model.state_dict(),\n",
    "                'seed': seed\n",
    "            }\n",
    "            torch.save(state, cur_epoch_file)\n",
    "\n",
    "# load from file if already trained, otherwise train and save\n",
    "MODEL_FILE = f'{NET_DIR}/cifar10_attr.pkl'\n",
    "if os.path.exists(MODEL_FILE):\n",
    "    model.load_state_dict(torch.load(MODEL_FILE))\n",
    "else:\n",
    "    trainModel()\n",
    "    torch.save(model.state_dict(), MODEL_FILE)"
   ],
   "metadata": {
    "collapsed": false,
    "pycharm": {
     "name": "#%% train model\n"
    }
   }
  },
  {
   "cell_type": "code",
   "execution_count": 7,
   "outputs": [
    {
     "data": {
      "text/plain": "HBox(children=(HTML(value=''), FloatProgress(value=0.0, max=1563.0), HTML(value='')))",
      "application/vnd.jupyter.widget-view+json": {
       "version_major": 2,
       "version_minor": 0,
       "model_id": "a8fa7e9ec7044abc82d7106c22e4618b"
      }
     },
     "metadata": {},
     "output_type": "display_data"
    },
    {
     "name": "stdout",
     "output_type": "stream",
     "text": [
      "\n",
      "Training: Got 21073/50000 correct at epoch 0\n",
      "Training: Accuracy of vgg16 at epoch 0 on attributes is 42.146%\n",
      "\n",
      "Testing: Got 4254/10000 correct at epoch 0\n",
      "Testing: Accuracy of vgg16 at epoch 0 on attributes is 42.540%\n",
      "\n",
      "Training: Got 49051/50000 correct at epoch 15\n",
      "Training: Accuracy of vgg16 at epoch 15 on attributes is 98.102%\n",
      "\n",
      "Testing: Got 7703/10000 correct at epoch 15\n",
      "Testing: Accuracy of vgg16 at epoch 15 on attributes is 77.030%\n",
      "\n",
      "Training: Got 49829/50000 correct at epoch 30\n",
      "Training: Accuracy of vgg16 at epoch 30 on attributes is 99.658%\n",
      "\n",
      "Testing: Got 7727/10000 correct at epoch 30\n",
      "Testing: Accuracy of vgg16 at epoch 30 on attributes is 77.270%\n",
      "\n",
      "Training: Got 49995/50000 correct at epoch 45\n",
      "Training: Accuracy of vgg16 at epoch 45 on attributes is 99.990%\n",
      "\n",
      "Testing: Got 7956/10000 correct at epoch 45\n",
      "Testing: Accuracy of vgg16 at epoch 45 on attributes is 79.560%\n",
      "\n",
      "Training: Got 49989/50000 correct at epoch 60\n",
      "Training: Accuracy of vgg16 at epoch 60 on attributes is 99.978%\n",
      "\n",
      "Testing: Got 7888/10000 correct at epoch 60\n",
      "Testing: Accuracy of vgg16 at epoch 60 on attributes is 78.880%\n",
      "\n",
      "Training: Got 49995/50000 correct at epoch 75\n",
      "Training: Accuracy of vgg16 at epoch 75 on attributes is 99.990%\n",
      "\n",
      "Testing: Got 7896/10000 correct at epoch 75\n",
      "Testing: Accuracy of vgg16 at epoch 75 on attributes is 78.960%\n"
     ]
    },
    {
     "data": {
      "text/plain": "HBox(children=(HTML(value=''), FloatProgress(value=0.0, max=313.0), HTML(value='')))",
      "application/vnd.jupyter.widget-view+json": {
       "version_major": 2,
       "version_minor": 0,
       "model_id": "75a3bf8832c7403189aacb09c3fd4295"
      }
     },
     "metadata": {},
     "output_type": "display_data"
    },
    {
     "data": {
      "text/plain": "HBox(children=(HTML(value=''), FloatProgress(value=0.0, max=1563.0), HTML(value='')))",
      "application/vnd.jupyter.widget-view+json": {
       "version_major": 2,
       "version_minor": 0,
       "model_id": "7b4712d4a8a546aab643613c60275466"
      }
     },
     "metadata": {},
     "output_type": "display_data"
    },
    {
     "data": {
      "text/plain": "HBox(children=(HTML(value=''), FloatProgress(value=0.0, max=313.0), HTML(value='')))",
      "application/vnd.jupyter.widget-view+json": {
       "version_major": 2,
       "version_minor": 0,
       "model_id": "8d72790bc0984ed2bf26d06172f775f1"
      }
     },
     "metadata": {},
     "output_type": "display_data"
    },
    {
     "data": {
      "text/plain": "HBox(children=(HTML(value=''), FloatProgress(value=0.0, max=1563.0), HTML(value='')))",
      "application/vnd.jupyter.widget-view+json": {
       "version_major": 2,
       "version_minor": 0,
       "model_id": "fda3273bc6324e65b421d7186b1f38eb"
      }
     },
     "metadata": {},
     "output_type": "display_data"
    },
    {
     "data": {
      "text/plain": "HBox(children=(HTML(value=''), FloatProgress(value=0.0, max=313.0), HTML(value='')))",
      "application/vnd.jupyter.widget-view+json": {
       "version_major": 2,
       "version_minor": 0,
       "model_id": "11fa13a7e3bd475ebc05ea41f235ca16"
      }
     },
     "metadata": {},
     "output_type": "display_data"
    },
    {
     "data": {
      "text/plain": "HBox(children=(HTML(value=''), FloatProgress(value=0.0, max=1563.0), HTML(value='')))",
      "application/vnd.jupyter.widget-view+json": {
       "version_major": 2,
       "version_minor": 0,
       "model_id": "a5f7864eaaad4dbaa87f1bcbaa2f96e5"
      }
     },
     "metadata": {},
     "output_type": "display_data"
    },
    {
     "data": {
      "text/plain": "HBox(children=(HTML(value=''), FloatProgress(value=0.0, max=313.0), HTML(value='')))",
      "application/vnd.jupyter.widget-view+json": {
       "version_major": 2,
       "version_minor": 0,
       "model_id": "660d4fa4f29b42ed8770088ce9aa6968"
      }
     },
     "metadata": {},
     "output_type": "display_data"
    },
    {
     "data": {
      "text/plain": "HBox(children=(HTML(value=''), FloatProgress(value=0.0, max=1563.0), HTML(value='')))",
      "application/vnd.jupyter.widget-view+json": {
       "version_major": 2,
       "version_minor": 0,
       "model_id": "d861425c2d1f41e7bd85610a73f2f8ef"
      }
     },
     "metadata": {},
     "output_type": "display_data"
    },
    {
     "data": {
      "text/plain": "HBox(children=(HTML(value=''), FloatProgress(value=0.0, max=313.0), HTML(value='')))",
      "application/vnd.jupyter.widget-view+json": {
       "version_major": 2,
       "version_minor": 0,
       "model_id": "f91cc24de83f4251b84e3c4ad342aa27"
      }
     },
     "metadata": {},
     "output_type": "display_data"
    },
    {
     "data": {
      "text/plain": "HBox(children=(HTML(value=''), FloatProgress(value=0.0, max=1563.0), HTML(value='')))",
      "application/vnd.jupyter.widget-view+json": {
       "version_major": 2,
       "version_minor": 0,
       "model_id": "39f97b2e94b14f00849ac5ec8606d815"
      }
     },
     "metadata": {},
     "output_type": "display_data"
    },
    {
     "data": {
      "text/plain": "HBox(children=(HTML(value=''), FloatProgress(value=0.0, max=313.0), HTML(value='')))",
      "application/vnd.jupyter.widget-view+json": {
       "version_major": 2,
       "version_minor": 0,
       "model_id": "0e1c9cc46a7c4735a2693a47d0a60a0b"
      }
     },
     "metadata": {},
     "output_type": "display_data"
    }
   ],
   "source": [
    "correct = 0\n",
    "total = 0\n",
    "\n",
    "model.eval()\n",
    "for i in range(0, 90, 15):\n",
    "    intermediate = torch.load(f'{NET_DIR}/e{i}.pkl')\n",
    "    model.load_state_dict(intermediate['model'])\n",
    "    with torch.no_grad():\n",
    "        correct = 0\n",
    "        total = 0\n",
    "        for img, label in tqdm(train_dl, unit='batch'):\n",
    "            output = model(img.to(device))\n",
    "            total += label.size(0)\n",
    "            _, prediction = torch.max(output.data, 1)\n",
    "            correct += (prediction == label.to(device)).sum().item()\n",
    "        print(f'Training: Got {correct}/{total} correct at epoch {i}')\n",
    "        print(f'Training: Accuracy of {NET_DIR} at epoch {i} on attributes is {100 * correct / total:.3f}%')\n",
    "        correct = 0\n",
    "        total = 0\n",
    "\n",
    "        for img, label in tqdm(test_dl, unit='batch'):\n",
    "            output = model(img.to(device))\n",
    "            total += label.size(0)\n",
    "            _, prediction = torch.max(output.data, 1)\n",
    "            correct += (prediction == label.to(device)).sum().item()\n",
    "        print(f'Testing: Got {correct}/{total} correct at epoch {i}')\n",
    "        print(f'Testing: Accuracy of {NET_DIR} at epoch {i} on attributes is {100 * correct / total:.3f}%')\n"
   ],
   "metadata": {
    "collapsed": false,
    "pycharm": {
     "name": "#%% Compare Intermidiary Files\n"
    }
   }
  },
  {
   "cell_type": "code",
   "execution_count": 8,
   "outputs": [
    {
     "data": {
      "text/plain": "HBox(children=(HTML(value=''), FloatProgress(value=0.0, max=1563.0), HTML(value='')))",
      "application/vnd.jupyter.widget-view+json": {
       "version_major": 2,
       "version_minor": 0,
       "model_id": "4fcc1c9c18794aa8b0b3c9f487d31545"
      }
     },
     "metadata": {},
     "output_type": "display_data"
    },
    {
     "name": "stdout",
     "output_type": "stream",
     "text": [
      "\n",
      "Got 49995/50000 correct\n",
      "Accuracy of vgg16 on attributes is 99.990%\n"
     ]
    }
   ],
   "source": [
    "correct = 0\n",
    "total = 0\n",
    "\n",
    "model.eval()\n",
    "with torch.no_grad():\n",
    "    for img, label in tqdm(train_dl, unit='batch'):\n",
    "        output = model(img.to(device))\n",
    "        total += label.size(0)\n",
    "        _, prediction = torch.max(output.data, 1)\n",
    "        correct += (prediction == label.to(device)).sum().item()\n",
    "\n",
    "print(f'Got {correct}/{total} correct')\n",
    "print(f'Accuracy of {NET_DIR} on attributes is {100 * correct / total:.3f}%')"
   ],
   "metadata": {
    "collapsed": false,
    "pycharm": {
     "name": "#%% train correctness\n"
    }
   }
  },
  {
   "cell_type": "code",
   "execution_count": 9,
   "outputs": [
    {
     "data": {
      "text/plain": "HBox(children=(HTML(value=''), FloatProgress(value=0.0, max=313.0), HTML(value='')))",
      "application/vnd.jupyter.widget-view+json": {
       "version_major": 2,
       "version_minor": 0,
       "model_id": "17a6b9788a1649ac8d76bc3d324852a4"
      }
     },
     "metadata": {},
     "output_type": "display_data"
    },
    {
     "name": "stdout",
     "output_type": "stream",
     "text": [
      "\n",
      "Got 7896/10000 correct\n",
      "Accuracy of vgg16 on attributes is 78.960%\n"
     ]
    }
   ],
   "source": [
    "correct = 0\n",
    "total = 0\n",
    "\n",
    "model.eval()\n",
    "with torch.no_grad():\n",
    "    for img, label in tqdm(test_dl, unit='batch'):\n",
    "        output = model(img.to(device))\n",
    "        total += label.size(0)\n",
    "        _, prediction = torch.max(output.data, 1)\n",
    "        correct += (prediction == label.to(device)).sum().item()\n",
    "\n",
    "print(f'Got {correct}/{total} correct')\n",
    "print(f'Accuracy of {NET_DIR} on attributes is {100 * correct / total:.3f}%')"
   ],
   "metadata": {
    "collapsed": false,
    "pycharm": {
     "name": "#%% test model\n"
    }
   }
  },
  {
   "cell_type": "code",
   "execution_count": 1,
   "outputs": [
    {
     "data": {
      "text/plain": "<Figure size 432x288 with 1 Axes>",
      "image/png": "[encoded data removed]"
     },
     "metadata": {},
     "output_type": "display_data"
    }
   ],
   "source": [
    "import matplotlib.pyplot as plt\n",
    "\n",
    "MIN_X = 0\n",
    "MAX_X = 90\n",
    "NET_NAME = 'VGG'\n",
    "DATASET_NAME = 'CIFAR-10 Attributes'\n",
    "LEGEND_LOC = 'lower right'\n",
    "\n",
    "train_x = [0, 15, 30, 45, 60, 75, 90]  # training epoch numbers\n",
    "train_y = [0.422, 0.981, 0.997, 0.999, 0.999, 0.999, 0.999]  # training error values (percent form)\n",
    "test_x = train_x[:]  # testing epoch numbers\n",
    "test_y = [0.425, 0.770, 0.773, 0.796, 0.789, 0.790, 0.790]  # testing epoch numbers (percent form)\n",
    "\n",
    "################# STOP HERE ################\n",
    "\n",
    "assert len(train_x) == len(train_y)\n",
    "assert len(test_x) == len(test_y)\n",
    "\n",
    "fig, ax = plt.subplots(nrows=1, ncols=1)\n",
    "fig.patch.set_facecolor('white')\n",
    "fig.patch.set_alpha(1.0)\n",
    "\n",
    "ax.set_title(f'{NET_NAME} on {DATASET_NAME}')\n",
    "\n",
    "ax.scatter(train_x, train_y, c='r', label='Training Accuracy')\n",
    "ax.scatter(test_x, test_y, c='b', label='Testing Accuracy')\n",
    "\n",
    "ax.set_xlabel(f'Epochs')\n",
    "ax.set_ylabel(f'Accuracy %')\n",
    "\n",
    "ax.legend(loc=LEGEND_LOC)\n",
    "\n",
    "plt.savefig(\n",
    "    f'{NET_NAME.lower().replace(\"-\", \"\")}-{DATASET_NAME.lower().replace(\" \", \"-\")}.png',\n",
    "    transparent=False\n",
    ")\n"
   ],
   "metadata": {
    "collapsed": false,
    "pycharm": {
     "name": "#%%\n"
    }
   }
  }
 ],
 "metadata": {
  "kernelspec": {
   "display_name": "Python 3",
   "language": "python",
   "name": "python3"
  },
  "language_info": {
   "codemirror_mode": {
    "name": "ipython",
    "version": 2
   },
   "file_extension": ".py",
   "mimetype": "text/x-python",
   "name": "python",
   "nbconvert_exporter": "python",
   "pygments_lexer": "ipython2",
   "version": "2.7.6"
  }
 },
 "nbformat": 4,
 "nbformat_minor": 0
}